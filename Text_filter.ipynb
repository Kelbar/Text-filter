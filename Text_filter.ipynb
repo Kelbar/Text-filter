{
 "cells": [
  {
   "cell_type": "code",
   "execution_count": 1,
   "metadata": {},
   "outputs": [],
   "source": [
    "import re"
   ]
  },
  {
   "cell_type": "code",
   "execution_count": 2,
   "metadata": {},
   "outputs": [],
   "source": [
    "pattern_dic = {1:r'\\W\\d{3}\\W\\d{3}-\\d{4}', 2:r'\\d+' , 3:r'\\w+@\\w+.\\w+'}"
   ]
  },
  {
   "cell_type": "code",
   "execution_count": 3,
   "metadata": {},
   "outputs": [],
   "source": [
    "def text_filter(pattern, text):\n",
    "    result = re.findall(pattern,text)\n",
    "    \n",
    "    set_result = set(result)\n",
    "    \n",
    "    if len(set_result) > 0:\n",
    "        if len(set_result) == 1:\n",
    "            print(f'\\nWe have found {len(set_result)} item:')\n",
    "            for item in set_result:\n",
    "                print(f'\\t{item}')\n",
    "        else:\n",
    "            print(f'\\nWe have found {len(set_result)} items:')\n",
    "            for item in set_result:\n",
    "                print(f'\\t{item}')\n",
    "    else:\n",
    "        return 'Not informtion found'"
   ]
  },
  {
   "cell_type": "code",
   "execution_count": 4,
   "metadata": {},
   "outputs": [],
   "source": [
    "def so_tell_me():\n",
    "    print(\"Select the option that best suits your needs:\")\n",
    "    print(\"\\t1 = Phone format ###-###-#### or (###)###-####\")\n",
    "    print(\"\\t2 = Just digit regardless of the length\")\n",
    "    print(\"\\t3 = Email format. Example exaple1@example.com or example2@example.hu\")\n",
    "    print(\"\\t4 = A specific word or digit\")\n",
    "    \n",
    "    choice_on = True\n",
    "    \n",
    "    while choice_on:\n",
    "        \n",
    "        choice = ' '.join(input('\\nWhite here: '))\n",
    "        \n",
    "        if choice == '1':\n",
    "            return pattern_dic[1]\n",
    "            break\n",
    "        elif choice == '2':\n",
    "            return pattern_dic[2]\n",
    "            break\n",
    "        elif choice == '3':\n",
    "            return pattern_dic[3]\n",
    "            break\n",
    "        elif choice == '4':\n",
    "            self_choice = input('\\nCustom search: ')\n",
    "            return self_choice\n",
    "            break1\n",
    "        else:\n",
    "            print('\\nPlease try again. Select the option between 1 to 4.')"
   ]
  },
  {
   "cell_type": "code",
   "execution_count": null,
   "metadata": {
    "scrolled": true
   },
   "outputs": [
    {
     "name": "stdout",
     "output_type": "stream",
     "text": [
      "Welcome to text filter\n",
      "\n",
      "This is a tool in which you can do a quick search of some specific information in a text\n",
      "Select the option that best suits your needs:\n",
      "\t1 = Phone format ###-###-#### or (###)###-####\n",
      "\t2 = Just digit regardless of the length\n",
      "\t3 = Email format. Example exaple1@example.com or example2@example.hu\n",
      "\t4 = A specific word or digit\n",
      "\n",
      "White here: 1\n"
     ]
    }
   ],
   "source": [
    "print('Welcome to text filter')\n",
    "print('\\nThis is a tool in which you can do a quick search of some specific information in a text')\n",
    "\n",
    "pattern = so_tell_me()\n",
    "\n",
    "text = input('\\nPaste the text that you need to filter:\\n')\n",
    "\n",
    "text_filter(pattern, text)"
   ]
  },
  {
   "cell_type": "code",
   "execution_count": null,
   "metadata": {},
   "outputs": [],
   "source": []
  }
 ],
 "metadata": {
  "kernelspec": {
   "display_name": "Python 3",
   "language": "python",
   "name": "python3"
  },
  "language_info": {
   "codemirror_mode": {
    "name": "ipython",
    "version": 3
   },
   "file_extension": ".py",
   "mimetype": "text/x-python",
   "name": "python",
   "nbconvert_exporter": "python",
   "pygments_lexer": "ipython3",
   "version": "3.8.5"
  }
 },
 "nbformat": 4,
 "nbformat_minor": 4
}
